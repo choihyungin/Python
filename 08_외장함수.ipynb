{
 "cells": [
  {
   "cell_type": "markdown",
   "metadata": {},
   "source": [
    "# sys"
   ]
  },
  {
   "cell_type": "code",
   "execution_count": 25,
   "metadata": {
    "collapsed": true
   },
   "outputs": [
    {
     "data": {
      "text/plain": [
       "['',\n",
       " '/applications/anaconda3/lib/python36.zip',\n",
       " '/applications/anaconda3/lib/python3.6',\n",
       " '/applications/anaconda3/lib/python3.6/lib-dynload',\n",
       " '/applications/anaconda3/lib/python3.6/site-packages',\n",
       " '/applications/anaconda3/lib/python3.6/site-packages/Sphinx-1.5.6-py3.6.egg',\n",
       " '/applications/anaconda3/lib/python3.6/site-packages/aeosa',\n",
       " '/applications/anaconda3/lib/python3.6/site-packages/konlpy-0.4.3-py3.6.egg',\n",
       " '/applications/anaconda3/lib/python3.6/site-packages/JPype1_py3-0.5.5.2-py3.6-macosx-10.7-x86_64.egg',\n",
       " '/applications/anaconda3/lib/python3.6/site-packages/setuptools-27.2.0-py3.6.egg',\n",
       " '/applications/anaconda3/lib/python3.6/site-packages/IPython/extensions',\n",
       " '/Users/choihyoung-in/.ipython']"
      ]
     },
     "execution_count": 25,
     "metadata": {},
     "output_type": "execute_result"
    }
   ],
   "source": [
    "import sys\n",
    "sys.path"
   ]
  },
  {
   "cell_type": "markdown",
   "metadata": {},
   "source": [
    "# pickle"
   ]
  },
  {
   "cell_type": "code",
   "execution_count": 12,
   "metadata": {},
   "outputs": [],
   "source": [
    "import pickle\n",
    "\n",
    "class NowData:\n",
    "    def __init__(self):\n",
    "        self.x = 0\n",
    "        self.y = 0\n",
    "        \n",
    "    def move(self, x, y):\n",
    "        self.x = x\n",
    "        self.y = y\n",
    "        \n",
    "    def get_location(self):\n",
    "        return self.x, self.y\n",
    "    \n",
    "data = NowData() \n",
    "data.move(100, 200)\n",
    "\n",
    "file = open('now.bin', 'wb')\n",
    "pickle.dump(data, file)\n",
    "file.close()"
   ]
  },
  {
   "cell_type": "code",
   "execution_count": 14,
   "metadata": {},
   "outputs": [
    {
     "name": "stdout",
     "output_type": "stream",
     "text": [
      "(100, 200)\n"
     ]
    }
   ],
   "source": [
    "file = open('now.bin', 'rb')\n",
    "data = pickle.load(file)\n",
    "print(data.get_location())\n",
    "file.close()"
   ]
  },
  {
   "cell_type": "markdown",
   "metadata": {},
   "source": [
    "# os"
   ]
  },
  {
   "cell_type": "code",
   "execution_count": 23,
   "metadata": {},
   "outputs": [],
   "source": [
    "import os\n",
    "os.mkdir('python_dir')\n",
    "os.mkdir('python_dir/a')\n",
    "file = open('python_dir/a/a.txt', 'w')\n",
    "file.close()\n",
    "\n",
    "os.mkdir('python_dir/b')\n",
    "file = open('python_dir/b/b.txt', 'w')\n",
    "file.close()"
   ]
  },
  {
   "cell_type": "markdown",
   "metadata": {},
   "source": [
    "# shutil"
   ]
  },
  {
   "cell_type": "code",
   "execution_count": 37,
   "metadata": {},
   "outputs": [
    {
     "data": {
      "text/plain": [
       "'/Users/choihyoung-in/Desktop/com/python/python_dir/아기.png'"
      ]
     },
     "execution_count": 37,
     "metadata": {},
     "output_type": "execute_result"
    }
   ],
   "source": [
    "import shutil\n",
    "\n",
    "shutil.copy('/Users/choihyoung-in/Desktop/아기.png', '/Users/choihyoung-in/Desktop/com/python/python_dir')"
   ]
  },
  {
   "cell_type": "markdown",
   "metadata": {},
   "source": [
    "# glob"
   ]
  },
  {
   "cell_type": "code",
   "execution_count": 34,
   "metadata": {},
   "outputs": [
    {
     "name": "stdout",
     "output_type": "stream",
     "text": [
      "65\n"
     ]
    }
   ],
   "source": [
    "import glob\n",
    "\n",
    "fileList = glob.glob('/applications/anaconda3/lib/python3.6/lib-dynload/*')\n",
    "print(len(fileList))"
   ]
  },
  {
   "cell_type": "markdown",
   "metadata": {},
   "source": [
    "# time"
   ]
  },
  {
   "cell_type": "code",
   "execution_count": 45,
   "metadata": {},
   "outputs": [
    {
     "name": "stdout",
     "output_type": "stream",
     "text": [
      "[2020, 1, 15, 16, 9, 55, 2, 15, 0]\n",
      "time.struct_time(tm_year=2020, tm_mon=1, tm_mday=15, tm_hour=16, tm_min=9, tm_sec=55, tm_wday=2, tm_yday=15, tm_isdst=0)\n",
      "2020/1/15\n"
     ]
    }
   ],
   "source": [
    "import time\n",
    "date = time.time()\n",
    "date2 = time.localtime(date)\n",
    "print(list(date2))\n",
    "print(date2)\n",
    "\n",
    "print(str(date2.tm_year)+'/'+str(date2.tm_mon)+'/'+str(date2.tm_mday))"
   ]
  },
  {
   "cell_type": "code",
   "execution_count": 62,
   "metadata": {},
   "outputs": [
    {
     "name": "stdout",
     "output_type": "stream",
     "text": [
      "1\n",
      "2\n",
      "3\n",
      "4\n",
      "5\n",
      "6\n",
      "7\n",
      "8\n",
      "9\n",
      "10\n"
     ]
    }
   ],
   "source": [
    "import time\n",
    "for i in range(1, 11): \n",
    "    print(i)\n",
    "    time.sleep(1)"
   ]
  },
  {
   "cell_type": "code",
   "execution_count": 63,
   "metadata": {},
   "outputs": [
    {
     "name": "stdout",
     "output_type": "stream",
     "text": [
      "2020/04/24 (Fri)\n"
     ]
    }
   ],
   "source": [
    "day = 100\n",
    "print(time.strftime('%Y/%m/%d (%a)', time.localtime(time.time()+day*24*60*60)))"
   ]
  },
  {
   "cell_type": "markdown",
   "metadata": {},
   "source": [
    "# calendar"
   ]
  },
  {
   "cell_type": "code",
   "execution_count": 64,
   "metadata": {},
   "outputs": [
    {
     "name": "stdout",
     "output_type": "stream",
     "text": [
      "      May 2017\n",
      "Mo Tu We Th Fr Sa Su\n",
      " 1  2  3  4  5  6  7\n",
      " 8  9 10 11 12 13 14\n",
      "15 16 17 18 19 20 21\n",
      "22 23 24 25 26 27 28\n",
      "29 30 31\n"
     ]
    }
   ],
   "source": [
    "import calendar\n",
    "calendar.prmonth(2017, 5)"
   ]
  },
  {
   "cell_type": "code",
   "execution_count": 66,
   "metadata": {},
   "outputs": [
    {
     "name": "stdout",
     "output_type": "stream",
     "text": [
      "화\n"
     ]
    }
   ],
   "source": [
    "import calendar\n",
    "week_dict = { 0 : '월', 1 : '화', 2 : '수', 3 : '목', 4 : '금', 5 : '토', 6 : '일' }\n",
    "\n",
    "print(week_dict[calendar.weekday(2017, 5, 9)])"
   ]
  },
  {
   "cell_type": "code",
   "execution_count": 77,
   "metadata": {},
   "outputs": [
    {
     "name": "stdout",
     "output_type": "stream",
     "text": [
      "    August 2004\n",
      "Mo Tu We Th Fr Sa Su\n",
      "                   1\n",
      " 2  3  4  5  6  7  8\n",
      " 9 10 11 12 13 14 15\n",
      "16 17 18 19 20 21 22\n",
      "23 24 25 26 27 28 29\n",
      "30 31\n",
      "--------------------\n",
      "2\n",
      "9\n",
      "16\n",
      "23\n",
      "30\n"
     ]
    }
   ],
   "source": [
    "calendar.prmonth(2004, 8)\n",
    "\n",
    "last_day = calendar.monthrange(2004, 8)[1]\n",
    "\n",
    "print(\"--------------------\")\n",
    "\n",
    "for i in range(1, last_day+1):\n",
    "    if week_dict[calendar.weekday(2004, 8, i)] == week_dict[0]:\n",
    "        print(i)"
   ]
  }
 ],
 "metadata": {
  "kernelspec": {
   "display_name": "Python 3",
   "language": "python",
   "name": "python3"
  },
  "language_info": {
   "codemirror_mode": {
    "name": "ipython",
    "version": 3
   },
   "file_extension": ".py",
   "mimetype": "text/x-python",
   "name": "python",
   "nbconvert_exporter": "python",
   "pygments_lexer": "ipython3",
   "version": "3.6.1"
  }
 },
 "nbformat": 4,
 "nbformat_minor": 2
}
