{
 "cells": [
  {
   "cell_type": "markdown",
   "metadata": {
    "collapsed": true
   },
   "source": [
    "# shortcuts\n",
    "\n",
    "실행 control + enter\n",
    "\n",
    "variable. 하고 tab 누르면 사용할 수 있는 기능 (실행을 하고 나서)\n",
    "\n",
    "variable.count 하고 shift + tab 누르면 count의 기능 설명 (실행을 하고 나서)"
   ]
  },
  {
   "cell_type": "code",
   "execution_count": 13,
   "metadata": {},
   "outputs": [
    {
     "name": "stdout",
     "output_type": "stream",
     "text": [
      "too\n"
     ]
    }
   ],
   "source": [
    "list_a = [ 'a', [ [ 'Life', 'is', 'too', 'short' ], 2 ] ]\n",
    "print(list_a[1][0][2])"
   ]
  },
  {
   "cell_type": "code",
   "execution_count": 14,
   "metadata": {},
   "outputs": [
    {
     "name": "stdout",
     "output_type": "stream",
     "text": [
      "가을 + GREEN\n"
     ]
    }
   ],
   "source": [
    "season = ['봄', '여름', '가을', '겨울']\n",
    "color = ['RED', 'GREEN', 'BLUE']\n",
    "\n",
    "join = season[2] + \" + \" + color[1]\n",
    "print(join)"
   ]
  },
  {
   "cell_type": "code",
   "execution_count": 15,
   "metadata": {},
   "outputs": [
    {
     "name": "stdout",
     "output_type": "stream",
     "text": [
      "[ggoreb]신림동/둔산동\n"
     ]
    }
   ],
   "source": [
    "person = ['ggoreb', 20, ['서울', '관악구', '신림동'],['대전', '서구', '둔산동']]\n",
    "data = \"[\" + person[0] + \"]\" + person[2][2] + \"/\" + person[3][2]\n",
    "print(data)"
   ]
  },
  {
   "cell_type": "code",
   "execution_count": 16,
   "metadata": {},
   "outputs": [
    {
     "name": "stdout",
     "output_type": "stream",
     "text": [
      "['a', 'b', 'c', 'x', 'z']\n"
     ]
    }
   ],
   "source": [
    "list_b = ['a', 'b', 'c']\n",
    "list_b.extend(['x', 'z'])\n",
    "print(list_b)"
   ]
  },
  {
   "cell_type": "code",
   "execution_count": 17,
   "metadata": {},
   "outputs": [
    {
     "name": "stdout",
     "output_type": "stream",
     "text": [
      "['h', 'n', 'o', 'p', 't', 'y']\n"
     ]
    }
   ],
   "source": [
    "list_c = ['p', 'y', 't', 'h', 'o', 'n']\n",
    "# 오름차순 정렬 코드 작성\n",
    "list_c.sort()\n",
    "print(list_c)"
   ]
  },
  {
   "cell_type": "code",
   "execution_count": 34,
   "metadata": {},
   "outputs": [
    {
     "name": "stdout",
     "output_type": "stream",
     "text": [
      "['n', 'o', 'h', 't', 'y', 'p']\n"
     ]
    }
   ],
   "source": [
    "list_c = ['p', 'y', 't', 'h', 'o', 'n']\n",
    "list_c.reverse()\n",
    "print(list_c)"
   ]
  },
  {
   "cell_type": "code",
   "execution_count": 18,
   "metadata": {},
   "outputs": [
    {
     "name": "stdout",
     "output_type": "stream",
     "text": [
      "['y', 't', 'p', 'o', 'n', 'h']\n"
     ]
    }
   ],
   "source": [
    "list_c.sort(reverse=True)\n",
    "print(list_c)"
   ]
  },
  {
   "cell_type": "code",
   "execution_count": 19,
   "metadata": {},
   "outputs": [
    {
     "name": "stdout",
     "output_type": "stream",
     "text": [
      "4\n"
     ]
    }
   ],
   "source": [
    "list_d = ['서울', '부산', '광주', '대전', '부산','대전', '대전', '서울', '부산', '대전']\n",
    "count = list_d.count('대전')\n",
    "print(count)"
   ]
  },
  {
   "cell_type": "code",
   "execution_count": 20,
   "metadata": {},
   "outputs": [
    {
     "name": "stdout",
     "output_type": "stream",
     "text": [
      "['원피스', '나루토', '열혈강호', '용비불패', '드래곤볼']\n"
     ]
    }
   ],
   "source": [
    "list_e = ['원피스', '나루토', '열혈강호', '용비불패', '드래곤볼']\n",
    "print(list_e)"
   ]
  },
  {
   "cell_type": "code",
   "execution_count": 21,
   "metadata": {},
   "outputs": [
    {
     "name": "stdout",
     "output_type": "stream",
     "text": [
      "['열혈강호', '고수', '용비불패']\n"
     ]
    }
   ],
   "source": [
    "list_f = ['열혈강호', '용비불패']\n",
    "list_f.insert(1, '고수')\n",
    "print(list_f)"
   ]
  },
  {
   "cell_type": "code",
   "execution_count": 22,
   "metadata": {},
   "outputs": [
    {
     "name": "stdout",
     "output_type": "stream",
     "text": [
      "['원피스', '보루토', '열혈강호', '용비불패', '드래곤볼']\n"
     ]
    }
   ],
   "source": [
    "list_g = ['원피스', '나루토', '열혈강호', '용비불패', '드래곤볼']\n",
    "list_g[1] = '보루토'\n",
    "print(list_g)"
   ]
  },
  {
   "cell_type": "code",
   "execution_count": 23,
   "metadata": {},
   "outputs": [
    {
     "name": "stdout",
     "output_type": "stream",
     "text": [
      "['원피스', '열혈강호', '드래곤볼']\n"
     ]
    }
   ],
   "source": [
    "rm_list = ['나루토', '용비불패']\n",
    "a_list = ['원피스', '나루토', '열혈강호', '용비불패', '드래곤볼']\n",
    "\n",
    "for word in rm_list:\n",
    "    a_list.remove(word)\n",
    "print(a_list)"
   ]
  },
  {
   "cell_type": "code",
   "execution_count": 24,
   "metadata": {},
   "outputs": [
    {
     "name": "stdout",
     "output_type": "stream",
     "text": [
      "(3,)\n"
     ]
    }
   ],
   "source": [
    "tuple_only_3 = (3, )\n",
    "print(tuple_only_3)"
   ]
  },
  {
   "cell_type": "code",
   "execution_count": 25,
   "metadata": {},
   "outputs": [
    {
     "name": "stdout",
     "output_type": "stream",
     "text": [
      "('a', 'b', 'c', '가')\n"
     ]
    }
   ],
   "source": [
    "tuple_test = ('a', 'b', 'c')\n",
    "tuple_test += ('가', )\n",
    "print(tuple_test)"
   ]
  },
  {
   "cell_type": "code",
   "execution_count": 26,
   "metadata": {},
   "outputs": [
    {
     "name": "stdout",
     "output_type": "stream",
     "text": [
      "<class 'dict'>\n",
      "{'a': 1, 'b': 2, 'c': 4}\n",
      "{'b': 2, 'c': 4}\n"
     ]
    }
   ],
   "source": [
    "dic = {'a' : 1, 'b': 2}\n",
    "dic['c'] = 4\n",
    "print(type(dic))\n",
    "print(dic)\n",
    "del dic['a']\n",
    "print(dic)"
   ]
  },
  {
   "cell_type": "code",
   "execution_count": 27,
   "metadata": {},
   "outputs": [
    {
     "name": "stdout",
     "output_type": "stream",
     "text": [
      "{'서울': '02', '대전': '042', '부산': '051', '광주': '062', '제주': '064'}\n"
     ]
    }
   ],
   "source": [
    "number = {'서울': '02', '대전': '042', '부산': '051', '광주': '062', '제주': '064'}\n",
    "print(number)"
   ]
  },
  {
   "cell_type": "code",
   "execution_count": 28,
   "metadata": {},
   "outputs": [
    {
     "name": "stdout",
     "output_type": "stream",
     "text": [
      "['서울', '대전', '부산', '광주', '제주']\n"
     ]
    }
   ],
   "source": [
    "key_list = list(number.keys())\n",
    "print(key_list)"
   ]
  },
  {
   "cell_type": "code",
   "execution_count": 29,
   "metadata": {},
   "outputs": [
    {
     "name": "stdout",
     "output_type": "stream",
     "text": [
      "['02', '042', '051', '062', '064']\n"
     ]
    }
   ],
   "source": [
    "value_list = list(number.values())\n",
    "print(value_list)"
   ]
  },
  {
   "cell_type": "code",
   "execution_count": 30,
   "metadata": {},
   "outputs": [
    {
     "name": "stdout",
     "output_type": "stream",
     "text": [
      "[('서울', '02'), ('대전', '042'), ('부산', '051'), ('광주', '062'), ('제주', '064')]\n"
     ]
    }
   ],
   "source": [
    "t_list = list(number.items())\n",
    "print(t_list)"
   ]
  },
  {
   "cell_type": "code",
   "execution_count": 31,
   "metadata": {},
   "outputs": [
    {
     "name": "stdout",
     "output_type": "stream",
     "text": [
      "02\n"
     ]
    }
   ],
   "source": [
    "seoul_value = t_list[0][1]\n",
    "print(seoul_value)"
   ]
  },
  {
   "cell_type": "code",
   "execution_count": 32,
   "metadata": {},
   "outputs": [
    {
     "name": "stdout",
     "output_type": "stream",
     "text": [
      "051\n"
     ]
    }
   ],
   "source": [
    "busan = number['부산']\n",
    "print(busan)"
   ]
  },
  {
   "cell_type": "code",
   "execution_count": 33,
   "metadata": {},
   "outputs": [
    {
     "name": "stdout",
     "output_type": "stream",
     "text": [
      "False\n"
     ]
    }
   ],
   "source": [
    "is_exist = '천안' in number\n",
    "print(is_exist)"
   ]
  }
 ],
 "metadata": {
  "kernelspec": {
   "display_name": "Python 3",
   "language": "python",
   "name": "python3"
  },
  "language_info": {
   "codemirror_mode": {
    "name": "ipython",
    "version": 3
   },
   "file_extension": ".py",
   "mimetype": "text/x-python",
   "name": "python",
   "nbconvert_exporter": "python",
   "pygments_lexer": "ipython3",
   "version": "3.6.1"
  }
 },
 "nbformat": 4,
 "nbformat_minor": 2
}
