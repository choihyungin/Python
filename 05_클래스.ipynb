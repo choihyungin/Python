{
 "cells": [
  {
   "cell_type": "code",
   "execution_count": 2,
   "metadata": {},
   "outputs": [
    {
     "name": "stdout",
     "output_type": "stream",
     "text": [
      "3\n",
      "13\n",
      "13\n"
     ]
    }
   ],
   "source": [
    "result = 0 # 결과를 저장할 전역변수\n",
    "def adder(num):\n",
    "    global result # 전역변수 사용 설정 \n",
    "    result += num\n",
    "    return result # 결과값 반환\n",
    "\n",
    "print(adder(3)) \n",
    "print(adder(10))\n",
    "print(result)"
   ]
  }
 ],
 "metadata": {
  "kernelspec": {
   "display_name": "Python 3",
   "language": "python",
   "name": "python3"
  },
  "language_info": {
   "codemirror_mode": {
    "name": "ipython",
    "version": 3
   },
   "file_extension": ".py",
   "mimetype": "text/x-python",
   "name": "python",
   "nbconvert_exporter": "python",
   "pygments_lexer": "ipython3",
   "version": "3.6.1"
  }
 },
 "nbformat": 4,
 "nbformat_minor": 2
}
