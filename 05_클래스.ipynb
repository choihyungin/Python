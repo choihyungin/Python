{
 "cells": [
  {
   "cell_type": "code",
   "execution_count": 1,
   "metadata": {},
   "outputs": [
    {
     "name": "stdout",
     "output_type": "stream",
     "text": [
      "3\n",
      "13\n",
      "13\n"
     ]
    }
   ],
   "source": [
    "result = 0 # 결과를 저장할 전역변수\n",
    "def adder(num):\n",
    "    global result # 전역변수 사용 설정 \n",
    "    result += num\n",
    "    return result # 결과값 반환\n",
    "\n",
    "print(adder(3)) \n",
    "print(adder(10))\n",
    "print(result)"
   ]
  },
  {
   "cell_type": "code",
   "execution_count": 2,
   "metadata": {},
   "outputs": [
    {
     "name": "stdout",
     "output_type": "stream",
     "text": [
      "8\n",
      "2\n",
      "15\n",
      "1.6666666666666667\n"
     ]
    }
   ],
   "source": [
    "class Calculator:\n",
    "    def plus(self, first, second):\n",
    "        return first + second\n",
    "    def minus(self, first, second): \n",
    "        return first - second\n",
    "    def multiply(self, first, second): \n",
    "        return first * second\n",
    "    def divide(self, first, second): \n",
    "        return first / second\n",
    "    \n",
    "cal = Calculator() \n",
    "print(cal.plus(5, 3)) \n",
    "print(cal.minus(5, 3)) \n",
    "print(cal.multiply(5, 3)) \n",
    "print(cal.divide(5, 3))"
   ]
  },
  {
   "cell_type": "code",
   "execution_count": 3,
   "metadata": {},
   "outputs": [
    {
     "name": "stdout",
     "output_type": "stream",
     "text": [
      "가나다라카타파하\n",
      "ABCDWXYZ\n"
     ]
    }
   ],
   "source": [
    "class Letter:\n",
    "    \n",
    "    letter = ''\n",
    "    \n",
    "    def write(self, text):\n",
    "        self.letter += text\n",
    "    \n",
    "    def show(self):\n",
    "        return self.letter\n",
    "    \n",
    "\n",
    "letter1 = Letter()\n",
    "letter1.write('가나다라')\n",
    "letter1.write('카타파하')\n",
    "\n",
    "letter2 = Letter()\n",
    "letter2.write('ABCD')\n",
    "letter2.write('WXYZ')\n",
    "\n",
    "print(letter1.show())\n",
    "print(letter2.show())"
   ]
  },
  {
   "cell_type": "code",
   "execution_count": 4,
   "metadata": {},
   "outputs": [
    {
     "name": "stdout",
     "output_type": "stream",
     "text": [
      "Python 10000\n",
      "Java 20000\n"
     ]
    }
   ],
   "source": [
    "class Book:\n",
    "    \n",
    "#     title = ''\n",
    "#     price = 0\n",
    "    \n",
    "    def setTitle(self, title):\n",
    "        self.title = title\n",
    "        return self.title\n",
    "    \n",
    "    def setPrice(self, price):\n",
    "        self.price = price\n",
    "        return self.price\n",
    "    \n",
    "\n",
    "book1 = Book()\n",
    "book1.setTitle('Python')\n",
    "book1.setPrice(10000)\n",
    "\n",
    "\n",
    "book2 = Book()\n",
    "book2.setTitle('Java')\n",
    "book2.setPrice(20000)\n",
    "\n",
    "\n",
    "print(book1.title, book1.price)\n",
    "print(book2.title, book2.price)"
   ]
  },
  {
   "cell_type": "code",
   "execution_count": 5,
   "metadata": {},
   "outputs": [
    {
     "name": "stdout",
     "output_type": "stream",
     "text": [
      "name=clock, code=c0001, count=500\n",
      "name=tv, code=t0001, count=1500\n"
     ]
    }
   ],
   "source": [
    "class Product:\n",
    "    \n",
    "    name = ''\n",
    "    code = ''\n",
    "    count = 0\n",
    "    \n",
    "    def __init__(self, name, code, count):\n",
    "        self.name = name\n",
    "        self.code = code\n",
    "        self.count = count\n",
    "\n",
    "    def show_info(self):\n",
    "         return 'name=' + self.name + ', code=' + self.code + ', count=' + str(self.count)\n",
    "\n",
    "\n",
    "\n",
    "p1 = Product('clock', 'c0001', 500)\n",
    "print(p1.show_info())\n",
    "\n",
    "\n",
    "\n",
    "p2 = Product('tv', 't0001', 1500)\n",
    "print(p2.show_info())"
   ]
  },
  {
   "cell_type": "code",
   "execution_count": 6,
   "metadata": {},
   "outputs": [
    {
     "name": "stdout",
     "output_type": "stream",
     "text": [
      "['전동 트렁크', '통풍 시트']\n",
      "['뒷자리 에어백', '하이패스']\n"
     ]
    }
   ],
   "source": [
    "class Car:\n",
    "    \n",
    "#     list1 = []\n",
    "    \n",
    "    def __init__(self):\n",
    "        self.list1 = []\n",
    "        \n",
    "    def add_option(self, option):\n",
    "        self.list1.append(option)\n",
    "    \n",
    "    def show_option(self):\n",
    "        return self.list1\n",
    "\n",
    "\n",
    "# Car() 괄호 안에 아무것도 없기 때문에 def __init__(self) 만 넣어주면 됨\n",
    "car1 = Car()\n",
    "car2 = Car()\n",
    "\n",
    "car1.add_option('전동 트렁크')\n",
    "car1.add_option('통풍 시트')\n",
    "\n",
    "car2.add_option('뒷자리 에어백')\n",
    "car2.add_option('하이패스')\n",
    "\n",
    "print(car1.show_option())\n",
    "print(car2.show_option())"
   ]
  },
  {
   "cell_type": "code",
   "execution_count": 7,
   "metadata": {},
   "outputs": [
    {
     "name": "stdout",
     "output_type": "stream",
     "text": [
      "['전동 트렁크', '통풍 시트', '뒷자리 에어백', '하이패스']\n",
      "['전동 트렁크', '통풍 시트', '뒷자리 에어백', '하이패스']\n"
     ]
    }
   ],
   "source": [
    "class Car:\n",
    "    \n",
    "    list1 = []\n",
    "    \n",
    "#     def __init__(self):\n",
    "#         self.list1 = []\n",
    "        \n",
    "    def add_option(self, option):\n",
    "        self.list1.append(option)\n",
    "    \n",
    "    def show_option(self):\n",
    "        return self.list1\n",
    "\n",
    "\n",
    "# Car() 괄호 안에 아무것도 없기 때문에 def __init__(self) 만 넣어주면 됨\n",
    "car1 = Car()\n",
    "car2 = Car()\n",
    "\n",
    "car1.add_option('전동 트렁크')\n",
    "car1.add_option('통풍 시트')\n",
    "\n",
    "car2.add_option('뒷자리 에어백')\n",
    "car2.add_option('하이패스')\n",
    "\n",
    "print(car1.show_option())\n",
    "print(car2.show_option())"
   ]
  },
  {
   "cell_type": "code",
   "execution_count": 8,
   "metadata": {},
   "outputs": [
    {
     "name": "stdout",
     "output_type": "stream",
     "text": [
      "20\n",
      "홍길동의 나이는 25\n",
      "B\n"
     ]
    }
   ],
   "source": [
    "class Data:\n",
    "    def __init__(self, data):\n",
    "        words = data.split('|') \n",
    "        self.idx = words[0] \n",
    "        self.name = words[1] \n",
    "        self.age = words[2] \n",
    "        self.grade = words[3]\n",
    "        \n",
    "    def print_age(self):\n",
    "        print('%s의 나이는 %s' % (self.name, self.age))\n",
    "\n",
    "data1 = Data('1|김길동|20|A') \n",
    "age1 = data1.age\n",
    "print(age1)\n",
    "\n",
    "data2 = Data('2|홍길동|25|B') \n",
    "data2.print_age()\n",
    "grade2 = data2.grade\n",
    "print(grade2)"
   ]
  },
  {
   "cell_type": "code",
   "execution_count": 9,
   "metadata": {
    "scrolled": true
   },
   "outputs": [
    {
     "name": "stdout",
     "output_type": "stream",
     "text": [
      "합계 15\n"
     ]
    }
   ],
   "source": [
    "class EachSum:\n",
    "    \n",
    "    def __init__(self):\n",
    "        self.total = 0\n",
    "    \n",
    "    def compute(self, nums):\n",
    "        self.nums = str(nums)\n",
    "        for num in self.nums:\n",
    "            self.total += int(num)\n",
    "        return self.total\n",
    "    \n",
    "each = EachSum()\n",
    "total = each.compute(12345)\n",
    "print('합계', total)"
   ]
  },
  {
   "cell_type": "code",
   "execution_count": 10,
   "metadata": {},
   "outputs": [
    {
     "name": "stdout",
     "output_type": "stream",
     "text": [
      "쌀국수\n"
     ]
    }
   ],
   "source": [
    "import random\n",
    "class SelectMenu:\n",
    "    \n",
    "    def __init__(self, menu):\n",
    "        self.menu = menu\n",
    "    \n",
    "    def get_menu(self):\n",
    "        idx = random.randint(0, len(self.menu)-1)\n",
    "        result = self.menu[idx]\n",
    "        \n",
    "        return result\n",
    "    \n",
    "menu = SelectMenu(['짬뽕', '초밥', '쌀국수', '주꾸미'])\n",
    "print(menu.get_menu())"
   ]
  },
  {
   "cell_type": "code",
   "execution_count": 11,
   "metadata": {},
   "outputs": [
    {
     "name": "stdout",
     "output_type": "stream",
     "text": [
      "3\n"
     ]
    }
   ],
   "source": [
    "from mymod import myfunc\n",
    "print(myfunc(1, 2))"
   ]
  },
  {
   "cell_type": "code",
   "execution_count": 12,
   "metadata": {},
   "outputs": [
    {
     "name": "stdout",
     "output_type": "stream",
     "text": [
      "A\n",
      "A\n"
     ]
    }
   ],
   "source": [
    "import mod_class as mc\n",
    "\n",
    "my_class = mc.MyClass('A')\n",
    "\n",
    "my_class.show()\n",
    "print(my_class.get_name())"
   ]
  },
  {
   "cell_type": "code",
   "execution_count": 13,
   "metadata": {},
   "outputs": [
    {
     "name": "stdout",
     "output_type": "stream",
     "text": [
      "sound mp3!\n",
      "sound wav!\n",
      "vga ati!\n",
      "vga nvidia!\n"
     ]
    }
   ],
   "source": [
    "import driver.sound.mp3\n",
    "from driver.sound.wav import *\n",
    "import driver.vga.ati\n",
    "from driver.vga.nvidia import *"
   ]
  },
  {
   "cell_type": "code",
   "execution_count": 14,
   "metadata": {
    "collapsed": true
   },
   "outputs": [],
   "source": [
    "# sound, vga 폴더 안에 __init__.py라는 파일 안에 __all__ = ['ati', 'nvidia'] 적어주고 저장\n",
    "\n",
    "from driver.sound import *\n",
    "from driver.vga import *"
   ]
  }
 ],
 "metadata": {
  "kernelspec": {
   "display_name": "Python 3",
   "language": "python",
   "name": "python3"
  },
  "language_info": {
   "codemirror_mode": {
    "name": "ipython",
    "version": 3
   },
   "file_extension": ".py",
   "mimetype": "text/x-python",
   "name": "python",
   "nbconvert_exporter": "python",
   "pygments_lexer": "ipython3",
   "version": "3.6.1"
  }
 },
 "nbformat": 4,
 "nbformat_minor": 2
}
