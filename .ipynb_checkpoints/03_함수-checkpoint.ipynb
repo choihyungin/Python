{
 "cells": [
  {
   "cell_type": "code",
   "execution_count": 1,
   "metadata": {},
   "outputs": [
    {
     "name": "stdout",
     "output_type": "stream",
     "text": [
      "15\n"
     ]
    }
   ],
   "source": [
    "def plus(a, b): # a, b는 매개변수(parameter) = 인자(argument)\n",
    "    return a + b\n",
    "\n",
    "x = 10\n",
    "y = 5\n",
    "result = plus(x, y)\n",
    "\n",
    "print(result)"
   ]
  },
  {
   "cell_type": "code",
   "execution_count": 2,
   "metadata": {},
   "outputs": [
    {
     "name": "stdout",
     "output_type": "stream",
     "text": [
      "240 80.0\n"
     ]
    }
   ],
   "source": [
    "def total(a, b, c):\n",
    "    return a+b+c\n",
    "\n",
    "def average(num, count):\n",
    "    return num / count\n",
    "\n",
    "num = total(90, 80, 70)\n",
    "avg = average(num, 3)\n",
    "\n",
    "print(num, avg)"
   ]
  },
  {
   "cell_type": "code",
   "execution_count": 3,
   "metadata": {},
   "outputs": [
    {
     "name": "stdout",
     "output_type": "stream",
     "text": [
      "240\n",
      "80.0\n",
      "None None\n"
     ]
    }
   ],
   "source": [
    "# return 값이 없고 그냥 print 하기 때문에 맨 마지막줄에 대한 결과가 none, none로 나옴\n",
    "def total(a, b, c):\n",
    "    print(a+b+c)\n",
    "    \n",
    "def average(num, count):\n",
    "    print(num / count)\n",
    "    \n",
    "num = total(90, 80, 70)\n",
    "avg = average(240, 3)\n",
    "\n",
    "print(num, avg)"
   ]
  },
  {
   "cell_type": "code",
   "execution_count": 4,
   "metadata": {},
   "outputs": [
    {
     "name": "stdout",
     "output_type": "stream",
     "text": [
      "10 6\n"
     ]
    }
   ],
   "source": [
    "# 매개변수의 갯수를 정해두지 않으려면 *args (튜플 형태로 반환)\n",
    "def total(*args):\n",
    "    total = 0\n",
    "    for i in args:\n",
    "        total += i\n",
    "    return total\n",
    "\n",
    "num = total(1, 2, 3, 4)\n",
    "num1 = total(1, 2, 3)\n",
    "\n",
    "print(num, num1)"
   ]
  },
  {
   "cell_type": "code",
   "execution_count": 5,
   "metadata": {},
   "outputs": [
    {
     "name": "stdout",
     "output_type": "stream",
     "text": [
      "('a', 'b') {'a': 1, 'b': 2}\n"
     ]
    }
   ],
   "source": [
    "# keyword를 지정하는 arguments **kwargs (딕셔너리 형태로 반환)\n",
    "def func(*args, **kwargs):\n",
    "    print(args, kwargs)\n",
    "\n",
    "func('a', 'b', a=1, b=2)"
   ]
  },
  {
   "cell_type": "code",
   "execution_count": 6,
   "metadata": {},
   "outputs": [
    {
     "name": "stdout",
     "output_type": "stream",
     "text": [
      "홀수\n"
     ]
    }
   ],
   "source": [
    "def is_odd(i):\n",
    "    if i%2 == 0:\n",
    "        result = \"짝수\"\n",
    "    else:\n",
    "        result = \"홀수\"\n",
    "    \n",
    "    return result\n",
    "\n",
    "print(is_odd(3))"
   ]
  },
  {
   "cell_type": "code",
   "execution_count": 7,
   "metadata": {},
   "outputs": [
    {
     "name": "stdout",
     "output_type": "stream",
     "text": [
      "8 2\n"
     ]
    }
   ],
   "source": [
    "def plus(a, b):\n",
    "    return a+b\n",
    "\n",
    "def minus(a, b):\n",
    "    return a-b\n",
    "\n",
    "result1 = plus(5, 3)\n",
    "result2 = minus(5, 3)\n",
    "\n",
    "print(result1, result2)"
   ]
  },
  {
   "cell_type": "code",
   "execution_count": 8,
   "metadata": {},
   "outputs": [
    {
     "name": "stdout",
     "output_type": "stream",
     "text": [
      "45\n"
     ]
    }
   ],
   "source": [
    "def total(a):\n",
    "    totalnum = 0\n",
    "    \n",
    "    for i in range(a):\n",
    "        totalnum += i\n",
    "    return totalnum\n",
    "\n",
    "print(total(10))"
   ]
  },
  {
   "cell_type": "code",
   "execution_count": 9,
   "metadata": {},
   "outputs": [
    {
     "name": "stdout",
     "output_type": "stream",
     "text": [
      "(30, 7.5)\n"
     ]
    }
   ],
   "source": [
    "def calculator(nums):\n",
    "    total = 0\n",
    "    for num in nums:\n",
    "        total += num\n",
    "        \n",
    "    avg = total / len(nums)\n",
    "    \n",
    "    return total, avg\n",
    "\n",
    "print(calculator([3, 7, 9, 11]))"
   ]
  },
  {
   "cell_type": "code",
   "execution_count": 10,
   "metadata": {},
   "outputs": [
    {
     "name": "stdout",
     "output_type": "stream",
     "text": [
      "7\n"
     ]
    }
   ],
   "source": [
    "# 일회성스러운 함수\n",
    "plus = lambda a, b: a+b\n",
    "\n",
    "print(plus(3, 4))"
   ]
  },
  {
   "cell_type": "code",
   "execution_count": 11,
   "metadata": {},
   "outputs": [
    {
     "name": "stdout",
     "output_type": "stream",
     "text": [
      "7 3\n"
     ]
    }
   ],
   "source": [
    "lambda_list = [lambda a, b: a+b, lambda a, b: a-b]\n",
    "\n",
    "print(lambda_list[0](5, 2), lambda_list[1](5, 2))"
   ]
  },
  {
   "cell_type": "code",
   "execution_count": 12,
   "metadata": {},
   "outputs": [
    {
     "name": "stdout",
     "output_type": "stream",
     "text": [
      "A100\n"
     ]
    }
   ],
   "source": [
    "def makePrdCode(name):\n",
    "    return lambda score: name + str(score)\n",
    "\n",
    "prd1 = makePrdCode('A')(100)\n",
    "print(prd1)"
   ]
  },
  {
   "cell_type": "code",
   "execution_count": 13,
   "metadata": {},
   "outputs": [
    {
     "name": "stdout",
     "output_type": "stream",
     "text": [
      "80\n",
      "[20, 40, 60, 80]\n"
     ]
    }
   ],
   "source": [
    "list_c = [10, 20, 30, 40]\n",
    "\n",
    "func = lambda num : num*2\n",
    "print(func(list_c[3]))\n",
    "\n",
    "list2 = [func(i) for i in list_c]\n",
    "print(list2)"
   ]
  },
  {
   "cell_type": "code",
   "execution_count": 14,
   "metadata": {},
   "outputs": [
    {
     "name": "stdout",
     "output_type": "stream",
     "text": [
      "38\n"
     ]
    }
   ],
   "source": [
    "def diff_sum(a, b, c):\n",
    "    sum_ = a + b + c\n",
    "    mul_sum = a**2 + b**2 + c**2\n",
    "    result = mul_sum - sum_\n",
    "    return result\n",
    "\n",
    "print(diff_sum(3, 4, 5))"
   ]
  },
  {
   "cell_type": "code",
   "execution_count": 15,
   "metadata": {},
   "outputs": [
    {
     "name": "stdout",
     "output_type": "stream",
     "text": [
      "220\n"
     ]
    }
   ],
   "source": [
    "def sequence(a):\n",
    "    result = 0\n",
    "    for i in range(1, a+1):\n",
    "        for j in range(i, a+1):\n",
    "            result += i\n",
    "    return result\n",
    "\n",
    "print(sequence(10))"
   ]
  },
  {
   "cell_type": "code",
   "execution_count": 16,
   "metadata": {},
   "outputs": [
    {
     "name": "stdout",
     "output_type": "stream",
     "text": [
      "th\n"
     ]
    }
   ],
   "source": [
    "def get_mid_char(a):\n",
    "    \n",
    "    if len(a) % 2 != 0:\n",
    "        result = a[len(a)//2]\n",
    "    else:\n",
    "        result = a[len(a)//2-1] + a[len(a)//2]\n",
    "    return result\n",
    "\n",
    "\n",
    "print(get_mid_char('python'))"
   ]
  },
  {
   "cell_type": "code",
   "execution_count": 17,
   "metadata": {},
   "outputs": [
    {
     "name": "stdout",
     "output_type": "stream",
     "text": [
      "수박수박수박수\n"
     ]
    }
   ],
   "source": [
    "def print_str(a):\n",
    "    if a%2 == 0:\n",
    "        result = \"수박\"*(a//2)\n",
    "    else:\n",
    "        result = \"수박\"*(a//2) + \"수\"\n",
    "    \n",
    "    return result\n",
    "\n",
    "print(print_str(7))"
   ]
  },
  {
   "cell_type": "code",
   "execution_count": 18,
   "metadata": {},
   "outputs": [
    {
     "name": "stdout",
     "output_type": "stream",
     "text": [
      "16\n"
     ]
    }
   ],
   "source": [
    "def get_total(a):\n",
    "    list_a = list(str(a))\n",
    "    result = 0\n",
    "    for i in list_a:\n",
    "        result += int(i)\n",
    "    return result\n",
    "\n",
    "print(get_total(79))"
   ]
  },
  {
   "cell_type": "code",
   "execution_count": 19,
   "metadata": {},
   "outputs": [
    {
     "name": "stdout",
     "output_type": "stream",
     "text": [
      "python\n"
     ]
    }
   ],
   "source": [
    "text = ''\n",
    "\n",
    "def str_adder(*args):\n",
    "    global text #전역변수로 선언한 것을 지역변수로 사용할 수 있음\n",
    "    for i in args:\n",
    "        text += i\n",
    "    return text\n",
    "\n",
    "print(str_adder('p', 'y', 't', 'h', 'o', 'n'))"
   ]
  },
  {
   "cell_type": "code",
   "execution_count": 20,
   "metadata": {},
   "outputs": [
    {
     "name": "stdout",
     "output_type": "stream",
     "text": [
      "[6, 7, 8]\n"
     ]
    }
   ],
   "source": [
    "def myfunc(numbers):\n",
    "    result = []\n",
    "    for number in numbers:\n",
    "        if number > 5:\n",
    "            result.append(number)\n",
    "    return result\n",
    "result = myfunc([2, 3, 4, 5, 6, 7, 8])\n",
    "print(result)"
   ]
  }
 ],
 "metadata": {
  "kernelspec": {
   "display_name": "Python 3",
   "language": "python",
   "name": "python3"
  },
  "language_info": {
   "codemirror_mode": {
    "name": "ipython",
    "version": 3
   },
   "file_extension": ".py",
   "mimetype": "text/x-python",
   "name": "python",
   "nbconvert_exporter": "python",
   "pygments_lexer": "ipython3",
   "version": "3.6.1"
  }
 },
 "nbformat": 4,
 "nbformat_minor": 2
}
