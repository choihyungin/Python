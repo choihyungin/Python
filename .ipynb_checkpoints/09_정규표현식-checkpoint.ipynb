{
 "cells": [
  {
   "cell_type": "code",
   "execution_count": 2,
   "metadata": {
    "collapsed": true
   },
   "outputs": [],
   "source": [
    "import re"
   ]
  },
  {
   "cell_type": "code",
   "execution_count": 61,
   "metadata": {},
   "outputs": [
    {
     "name": "stdout",
     "output_type": "stream",
     "text": [
      "있음\n"
     ]
    }
   ],
   "source": [
    "pattern = re.compile('[요]') \n",
    "s = '안녕하세요'\n",
    "if pattern.search(s):\n",
    "    print(\"있음\")\n",
    "else:\n",
    "    print(\"없음\")"
   ]
  },
  {
   "cell_type": "code",
   "execution_count": 66,
   "metadata": {},
   "outputs": [
    {
     "name": "stdout",
     "output_type": "stream",
     "text": [
      "있음\n"
     ]
    }
   ],
   "source": [
    "pattern = re.compile('[abc][abc][abcd]') \n",
    "s = 'abd'\n",
    "if pattern.match(s):\n",
    "    print(\"있음\")\n",
    "else:\n",
    "    print(\"없음\")"
   ]
  },
  {
   "cell_type": "code",
   "execution_count": 87,
   "metadata": {},
   "outputs": [
    {
     "name": "stdout",
     "output_type": "stream",
     "text": [
      "있음\n",
      "없음\n",
      "없음\n"
     ]
    }
   ],
   "source": [
    "pattern = re.compile('^a.+[xz]$')\n",
    "s_list = ['aaz', 'az', 'a1xa']\n",
    "\n",
    "for s in s_list:\n",
    "    if pattern.match(s):\n",
    "        print(\"있음\")\n",
    "    else:\n",
    "        print(\"없음\")"
   ]
  },
  {
   "cell_type": "code",
   "execution_count": 3,
   "metadata": {},
   "outputs": [
    {
     "name": "stdout",
     "output_type": "stream",
     "text": [
      "<_sre.SRE_Match object; span=(0, 14), match='791111-1234567'>\n"
     ]
    }
   ],
   "source": [
    "text = '791111-1234567'\n",
    "regex = '[0-9]{6}-[1-4][0-9]{6}'\n",
    "pattern = re.compile(regex)\n",
    "res = pattern.match(text)\n",
    "print(res)"
   ]
  },
  {
   "cell_type": "code",
   "execution_count": 109,
   "metadata": {},
   "outputs": [
    {
     "name": "stdout",
     "output_type": "stream",
     "text": [
      "None\n"
     ]
    }
   ],
   "source": [
    "text = '123-12-123456'\n",
    "regex = '^1[0-9]{2}-1[0-9]-[0-9]{6}'\n",
    "pattern = re.compile(regex)\n",
    "res = pattern.match(text)\n",
    "print(res)"
   ]
  },
  {
   "cell_type": "code",
   "execution_count": 5,
   "metadata": {},
   "outputs": [
    {
     "name": "stdout",
     "output_type": "stream",
     "text": [
      "791111\n"
     ]
    }
   ],
   "source": [
    "text = '791111-1234567'\n",
    "regex = '([0-9]{6})-([1-4][0-9]{6})'\n",
    "pattern = re.compile(regex)\n",
    "res = pattern.match(text)\n",
    "\n",
    "print(res.group(1))"
   ]
  },
  {
   "cell_type": "code",
   "execution_count": 30,
   "metadata": {},
   "outputs": [
    {
     "name": "stdout",
     "output_type": "stream",
     "text": [
      "<_sre.SRE_Match object; span=(0, 41), match='안녕하세요. 저는 OOO에서 태어났고... 열심히 하겠습니다. 감사합니다.'>\n"
     ]
    }
   ],
   "source": [
    "text = '안녕하세요. 저는 OOO에서 태어났고... 열심히 하겠습니다. 감사합니다.'\n",
    "regex = '안녕하세요.*열심히.*감사합니다[.]$'\n",
    "pattern = re.compile(regex)\n",
    "res = pattern.match(text)\n",
    "print(res)"
   ]
  },
  {
   "cell_type": "code",
   "execution_count": 49,
   "metadata": {},
   "outputs": [
    {
     "name": "stdout",
     "output_type": "stream",
     "text": [
      "꼬  렙\n",
      "1234\n"
     ]
    }
   ],
   "source": [
    "text = '이름:꼬  렙, 전화번호:1234'\n",
    "regex = '이름:(.*), 전화번호:(\\d+)$'\n",
    "pattern = re.compile(regex)\n",
    "res = pattern.match(text)\n",
    "print(res.group(1))\n",
    "print(res.group(2))"
   ]
  },
  {
   "cell_type": "code",
   "execution_count": 52,
   "metadata": {},
   "outputs": [
    {
     "name": "stdout",
     "output_type": "stream",
     "text": [
      "<_sre.SRE_Match object; span=(0, 8), match='12ab1234'>\n"
     ]
    }
   ],
   "source": [
    "text = '12ab1234'\n",
    "regex = '[0-9]{2}[a-z]{2}[0-9]{4}'\n",
    "pattern = re.compile(regex)\n",
    "res = pattern.match(text)\n",
    "print(res)"
   ]
  },
  {
   "cell_type": "code",
   "execution_count": 72,
   "metadata": {},
   "outputs": [
    {
     "name": "stdout",
     "output_type": "stream",
     "text": [
      "<_sre.SRE_Match object; span=(0, 8), match='abcd1234'>\n"
     ]
    }
   ],
   "source": [
    "text = 'abcd1234'\n",
    "regex = '^[0-9a-z]*$'\n",
    "pattern = re.compile(regex)\n",
    "res = pattern.match(text)\n",
    "print(res)"
   ]
  },
  {
   "cell_type": "code",
   "execution_count": 75,
   "metadata": {},
   "outputs": [
    {
     "name": "stdout",
     "output_type": "stream",
     "text": [
      "['Life', 'is', 'too', 'short', 'you', 'nedd', 'Python']\n"
     ]
    }
   ],
   "source": [
    "p = re.compile('[a-zA-Z]+')\n",
    "\n",
    "result = p.findall('Life is too short, you nedd Python')\n",
    "print(result)"
   ]
  },
  {
   "cell_type": "code",
   "execution_count": 84,
   "metadata": {},
   "outputs": [
    {
     "name": "stdout",
     "output_type": "stream",
     "text": [
      "100-99-23242324\n"
     ]
    }
   ],
   "source": [
    "text = '대표자 : 꼬렙 사업자등록번호 : 100-99-23242324 대표전화 : 051-1234-5678'\n",
    "regex = '\\d{3}-\\d{2}-\\d{8}'\n",
    "pattern = re.compile(regex)\n",
    "res = pattern.search(text)\n",
    "print(res.group())"
   ]
  },
  {
   "cell_type": "code",
   "execution_count": 83,
   "metadata": {},
   "outputs": [
    {
     "name": "stdout",
     "output_type": "stream",
     "text": [
      "051-1234-5678\n"
     ]
    }
   ],
   "source": [
    "text = '대표자 : 꼬렙 사업자등록번호 : 100-99-23242324 대표전화 : 051-1234-5678'\n",
    "regex = '\\d{2,3}-\\d{4}-\\d{4}'\n",
    "pattern = re.compile(regex)\n",
    "res = pattern.search(text)\n",
    "print(res.group())"
   ]
  },
  {
   "cell_type": "code",
   "execution_count": 98,
   "metadata": {},
   "outputs": [
    {
     "name": "stdout",
     "output_type": "stream",
     "text": [
      "['서울', '강남', '맛집', '주꾸미']\n"
     ]
    }
   ],
   "source": [
    "text = '#서울, #강남, #맛집, #주꾸미'\n",
    "regex = '#([ㄱ-힣]+)'\n",
    "pattern = re.compile(regex)\n",
    "res = pattern.findall(text)\n",
    "print(res)"
   ]
  },
  {
   "cell_type": "code",
   "execution_count": 108,
   "metadata": {},
   "outputs": [
    {
     "name": "stdout",
     "output_type": "stream",
     "text": [
      "a@ggoreb.com\n",
      "c@ggoreb.net\n"
     ]
    }
   ],
   "source": [
    "text = '''주로 사용하는 이메일 주소는 a@ggoreb.com 이고,\n",
    "가끔 사용하는 이메일 주소는 b@ggoreb.info 입니다.\n",
    "이번에 새로 만든 c@ggoreb.net도 있습니다.'''\n",
    "\n",
    "regex = '\\w+@\\w+[.](com|net)'\n",
    "pattern = re.compile(regex)\n",
    "it = pattern.finditer(text)\n",
    "for i in it:\n",
    "    print(i.group())"
   ]
  },
  {
   "cell_type": "code",
   "execution_count": 113,
   "metadata": {},
   "outputs": [
    {
     "name": "stdout",
     "output_type": "stream",
     "text": [
      "a@ggoreb.com\n",
      "c@ggoreb.net\n"
     ]
    }
   ],
   "source": [
    "text = '''주로 사용하는 이메일 주소는 a@ggoreb.com 이고,\n",
    "가끔 사용하는 이메일 주소는 b@ggoreb.info 입니다.\n",
    "이번에 새로 만든 c@ggoreb.net도 있습니다.'''\n",
    "\n",
    "regex = '(\\w+@\\w+[.][com|net]+)\\s*'\n",
    "pattern = re.compile(regex)\n",
    "it = pattern.findall(text)\n",
    "for i in it:\n",
    "    print(i)"
   ]
  },
  {
   "cell_type": "code",
   "execution_count": 145,
   "metadata": {},
   "outputs": [
    {
     "name": "stdout",
     "output_type": "stream",
     "text": [
      "010-****-8181\n"
     ]
    }
   ],
   "source": [
    "text = '010-8478-8181'\n",
    "regex = '(\\d)-\\d+-(\\d)'\n",
    "pattern = re.compile(regex)\n",
    "change = '\\g<1>-****-\\g<2>'\n",
    "res = pattern.sub(change, text)\n",
    "print(res)"
   ]
  },
  {
   "cell_type": "code",
   "execution_count": 146,
   "metadata": {},
   "outputs": [
    {
     "name": "stdout",
     "output_type": "stream",
     "text": [
      "ggoreb@*****.com\n",
      "seorab@*****.com\n",
      "human@*****.com\n"
     ]
    }
   ],
   "source": [
    "user_list = ['ggoreb@naver.com', 'seorab@gmail.com', 'human@ggoreb.com']\n",
    "regex = '(\\w+@)\\w+([.]com)'\n",
    "pattern = re.compile(regex)\n",
    "change = '\\g<1>*****\\g<2>'\n",
    "for user in user_list:\n",
    "    res = pattern.sub(change, user)\n",
    "    print(res)"
   ]
  }
 ],
 "metadata": {
  "kernelspec": {
   "display_name": "Python 3",
   "language": "python",
   "name": "python3"
  },
  "language_info": {
   "codemirror_mode": {
    "name": "ipython",
    "version": 3
   },
   "file_extension": ".py",
   "mimetype": "text/x-python",
   "name": "python",
   "nbconvert_exporter": "python",
   "pygments_lexer": "ipython3",
   "version": "3.6.1"
  }
 },
 "nbformat": 4,
 "nbformat_minor": 2
}
