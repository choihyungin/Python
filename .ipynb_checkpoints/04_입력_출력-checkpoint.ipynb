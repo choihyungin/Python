{
 "cells": [
  {
   "cell_type": "code",
   "execution_count": 5,
   "metadata": {},
   "outputs": [
    {
     "name": "stdout",
     "output_type": "stream",
     "text": [
      "score100\n",
      "score 100\n"
     ]
    }
   ],
   "source": [
    "a = 'score'\n",
    "b = 100\n",
    "\n",
    "print(a + str(b))\n",
    "print(a, b)"
   ]
  },
  {
   "cell_type": "code",
   "execution_count": 11,
   "metadata": {},
   "outputs": [
    {
     "name": "stdout",
     "output_type": "stream",
     "text": [
      "0번째 1번째 2번째 3번째 4번째 5번째 6번째 7번째 8번째 9번째 10번째 "
     ]
    }
   ],
   "source": [
    "for i in range(11):\n",
    "    print(str(i) + \"번째\", end=\" \")"
   ]
  },
  {
   "cell_type": "code",
   "execution_count": 14,
   "metadata": {},
   "outputs": [
    {
     "name": "stdout",
     "output_type": "stream",
     "text": [
      "141\n"
     ]
    }
   ],
   "source": [
    "file = open('04_03_numbers_data.txt', 'r')\n",
    "nums = file.read()\n",
    "file.close()\n",
    "num = nums.split('\\n')\n",
    "\n",
    "total = 0\n",
    "for n in num:\n",
    "    total += int(n)\n",
    "print(total)"
   ]
  },
  {
   "cell_type": "code",
   "execution_count": 15,
   "metadata": {},
   "outputs": [
    {
     "name": "stdout",
     "output_type": "stream",
     "text": [
      "python\n",
      "kotlin\n",
      "fortran\n"
     ]
    }
   ],
   "source": [
    "file = open('04_03_text_data.txt', 'r')\n",
    "texts = file.read()\n",
    "text = texts.split('\\n')\n",
    "\n",
    "for txt in text:\n",
    "    if 't' in txt:\n",
    "        print(txt)"
   ]
  }
 ],
 "metadata": {
  "kernelspec": {
   "display_name": "Python 3",
   "language": "python",
   "name": "python3"
  },
  "language_info": {
   "codemirror_mode": {
    "name": "ipython",
    "version": 3
   },
   "file_extension": ".py",
   "mimetype": "text/x-python",
   "name": "python",
   "nbconvert_exporter": "python",
   "pygments_lexer": "ipython3",
   "version": "3.6.1"
  }
 },
 "nbformat": 4,
 "nbformat_minor": 2
}
